{
 "cells": [
  {
   "cell_type": "code",
   "execution_count": 2,
   "metadata": {},
   "outputs": [
    {
     "name": "stdout",
     "output_type": "stream",
     "text": [
      "Collecting names\n",
      "  Downloading names-0.3.0.tar.gz (789 kB)\n",
      "Building wheels for collected packages: names\n",
      "  Building wheel for names (setup.py): started\n",
      "  Building wheel for names (setup.py): finished with status 'done'\n",
      "  Created wheel for names: filename=names-0.3.0-py3-none-any.whl size=803695 sha256=40c4398f40e363284da21046f06da37ad8d21ad3c1d673ee57e7c427c0272a3b\n",
      "  Stored in directory: c:\\users\\kalpana bhatt\\appdata\\local\\pip\\cache\\wheels\\05\\ea\\68\\92f6b0669e478af9b7c3c524520d03050089e034edcc775c2b\n",
      "Successfully built names\n",
      "Installing collected packages: names\n",
      "Successfully installed names-0.3.0\n"
     ]
    }
   ],
   "source": [
    "!pip install names"
   ]
  },
  {
   "cell_type": "code",
   "execution_count": 4,
   "metadata": {},
   "outputs": [
    {
     "name": "stdout",
     "output_type": "stream",
     "text": [
      "Collecting gTTSNote: you may need to restart the kernel to use updated packages.\n",
      "\n",
      "  Downloading gTTS-2.1.1-py3-none-any.whl (25 kB)\n",
      "Requirement already satisfied: six in e:\\anaconda\\envs\\tensorflow\\lib\\site-packages (from gTTS) (1.14.0)\n",
      "Collecting beautifulsoup4\n",
      "  Downloading beautifulsoup4-4.9.0-py3-none-any.whl (109 kB)\n",
      "Collecting gtts-token>=1.1.3\n",
      "  Downloading gTTS-token-1.1.3.tar.gz (3.4 kB)\n",
      "Requirement already satisfied: requests in e:\\anaconda\\envs\\tensorflow\\lib\\site-packages (from gTTS) (2.23.0)\n",
      "Requirement already satisfied: click in e:\\anaconda\\envs\\tensorflow\\lib\\site-packages (from gTTS) (7.1.1)\n",
      "Collecting soupsieve>1.2\n",
      "  Downloading soupsieve-2.0-py2.py3-none-any.whl (32 kB)\n",
      "Requirement already satisfied: certifi>=2017.4.17 in e:\\anaconda\\envs\\tensorflow\\lib\\site-packages (from requests->gTTS) (2020.4.5.1)\n",
      "Requirement already satisfied: chardet<4,>=3.0.2 in e:\\anaconda\\envs\\tensorflow\\lib\\site-packages (from requests->gTTS) (3.0.4)\n",
      "Requirement already satisfied: idna<3,>=2.5 in e:\\anaconda\\envs\\tensorflow\\lib\\site-packages (from requests->gTTS) (2.9)\n",
      "Requirement already satisfied: urllib3!=1.25.0,!=1.25.1,<1.26,>=1.21.1 in e:\\anaconda\\envs\\tensorflow\\lib\\site-packages (from requests->gTTS) (1.25.8)\n",
      "Building wheels for collected packages: gtts-token\n",
      "  Building wheel for gtts-token (setup.py): started\n",
      "  Building wheel for gtts-token (setup.py): finished with status 'done'\n",
      "  Created wheel for gtts-token: filename=gTTS_token-1.1.3-py3-none-any.whl size=4100 sha256=72d5bd859aa10499e1dda62d49f9dc3fcd6529ddf4ad705ae4b9327dd55ddbd6\n",
      "  Stored in directory: c:\\users\\kalpana bhatt\\appdata\\local\\pip\\cache\\wheels\\c1\\78\\25\\81270af5521d88ea8db7da5d4f64872673976eb9692bcb0c13\n",
      "Successfully built gtts-token\n",
      "Installing collected packages: soupsieve, beautifulsoup4, gtts-token, gTTS\n",
      "Successfully installed beautifulsoup4-4.9.0 gTTS-2.1.1 gtts-token-1.1.3 soupsieve-2.0\n"
     ]
    }
   ],
   "source": [
    "pip install gTTS"
   ]
  },
  {
   "cell_type": "code",
   "execution_count": 5,
   "metadata": {},
   "outputs": [
    {
     "name": "stdout",
     "output_type": "stream",
     "text": [
      "Collecting tempNote: you may need to restart the kernel to use updated packages.\n",
      "  Downloading temp-2020.4.16.tar.gz (1.5 kB)\n",
      "Processing c:\\users\\kalpana bhatt\\appdata\\local\\pip\\cache\\wheels\\db\\69\\b3\\c0c7fb2ce5d44ed3d09b495462799b0360ea86303197a924fb\\public-2019.4.13-py3-none-any.whl\n",
      "Requirement already satisfied: setuptools in e:\\anaconda\\envs\\tensorflow\\lib\\site-packages (from temp) (46.1.3.post20200330)\n",
      "Building wheels for collected packages: temp\n",
      "  Building wheel for temp (setup.py): started\n",
      "  Building wheel for temp (setup.py): finished with status 'done'\n",
      "  Created wheel for temp: filename=temp-2020.4.16-py3-none-any.whl size=1865 sha256=8ce85c2517cf3d9bcfc8799bf84b1b86f37e5c4002664c8e347929cbf8a8a5af\n",
      "  Stored in directory: c:\\users\\kalpana bhatt\\appdata\\local\\pip\\cache\\wheels\\27\\b5\\4f\\41efa7aaaa4073bc1b9f8191400a21aece0569115663952e7c\n",
      "Successfully built temp\n",
      "Installing collected packages: public, temp\n",
      "Successfully installed public-2019.4.13 temp-2020.4.16\n",
      "\n"
     ]
    }
   ],
   "source": [
    "pip install temp"
   ]
  },
  {
   "cell_type": "code",
   "execution_count": 1,
   "metadata": {},
   "outputs": [],
   "source": [
    "import names\n",
    "from gtts import gTTS\n",
    "import tempfile\n",
    "import os"
   ]
  },
  {
   "cell_type": "code",
   "execution_count": 2,
   "metadata": {},
   "outputs": [
    {
     "name": "stdout",
     "output_type": "stream",
     "text": [
      "Selecting random name...\n",
      "Converting text to speech...\n",
      "Speaking...\n",
      "(R)epeat or (C)ontinue? r\n",
      "(R)epeat or (C)ontinue? c\n",
      "What was the name? amanda\n",
      "The correct answer was 'Amanda Patterson'.\n"
     ]
    }
   ],
   "source": [
    "def spellApco(word):\n",
    "    alphabet = {\n",
    "        'A': \"Apple\",\n",
    "        'B': \"Boy\",\n",
    "        'C': \"Cat\",\n",
    "        'D': \"Dog\",\n",
    "        'E': \"Elephant\",\n",
    "        'F': \"Frog\",\n",
    "        'G': \"Girrafe\",\n",
    "        'H': \"Hen\",\n",
    "        'I': \"India\",\n",
    "        'J': \"John\",\n",
    "        'K': \"King\",\n",
    "        'L': \"London\",\n",
    "        'M': \"Mother\",\n",
    "        'N': \"Nest\",\n",
    "        'O': \"Ocean\",\n",
    "        'P': \"Parrot\",\n",
    "        'Q': \"Queen\",\n",
    "        'R': \"Rat\",\n",
    "        'S': \"Shark\",\n",
    "        'T': \"Tom\",\n",
    "        'U': \"Umbrella\",\n",
    "        'V': \"Van\",\n",
    "        'W': \"Wool\",\n",
    "        'X': \"X-Ray\",\n",
    "        'Y': \"Young\",\n",
    "        'Z': \"Zebra\",\n",
    "    }\n",
    "\n",
    "    # Speak the word at the beginning\n",
    "    spelling = word + \". \"\n",
    "\n",
    "    # Spell out each letter of the word\n",
    "    for letter in word:\n",
    "        if letter == \" \":\n",
    "            spelling += \"... \"\n",
    "        else:\n",
    "            spelling += letter.upper() + \" for \" + alphabet.get(letter.upper(), \"Sorry! I have no Idea about this one.\") + \". \"\n",
    "\n",
    "    # Say the word again at the end\n",
    "    spelling += word + \".\"\n",
    "\n",
    "    return spelling\n",
    "\n",
    "\n",
    "if __name__ == '__main__':\n",
    "    # Get a random name\n",
    "    print(\"Selecting random name...\")\n",
    "    name = names.get_full_name()\n",
    "\n",
    "    # Spell out name\n",
    "    spelling = spellApco(name)\n",
    "\n",
    "    # Get MP3 of phrase\n",
    "    print(\"Converting text to speech...\")\n",
    "    tts = gTTS(text=spelling)\n",
    "\n",
    "    # Write MP3 to a temporary file\n",
    "    f = tempfile.NamedTemporaryFile(suffix=\".mp3\", delete=False)\n",
    "    tts.write_to_fp(f)\n",
    "    f.close()\n",
    "\n",
    "    # Play MP3 in temporary file\n",
    "    print(\"Speaking...\")\n",
    "    response = \"R\"\n",
    "    while response.upper() == \"R\":\n",
    "        os.system(\"start \" + f.name)\n",
    "\n",
    "        # Ask user to repeat or continue\n",
    "        response = input(\"(R)epeat or (C)ontinue? \")\n",
    "\n",
    "    # Close and delete temporary file\n",
    "    os.remove(f.name)\n",
    "\n",
    "    # Check is name is correct\n",
    "    response = input(\"What was the name? \")\n",
    "    if response.upper() == name.upper():\n",
    "        print(\"Correct! Well done!\")\n",
    "    else:\n",
    "        print(\"The correct answer was '%s'.\" % name)"
   ]
  },
  {
   "cell_type": "code",
   "execution_count": null,
   "metadata": {},
   "outputs": [],
   "source": []
  }
 ],
 "metadata": {
  "kernelspec": {
   "display_name": "Python 3",
   "language": "python",
   "name": "python3"
  },
  "language_info": {
   "codemirror_mode": {
    "name": "ipython",
    "version": 3
   },
   "file_extension": ".py",
   "mimetype": "text/x-python",
   "name": "python",
   "nbconvert_exporter": "python",
   "pygments_lexer": "ipython3",
   "version": "3.7.7"
  }
 },
 "nbformat": 4,
 "nbformat_minor": 4
}
